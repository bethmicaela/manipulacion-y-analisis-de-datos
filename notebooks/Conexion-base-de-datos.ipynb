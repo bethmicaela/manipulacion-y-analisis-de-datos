{
 "cells": [
  {
   "cell_type": "markdown",
   "metadata": {
    "id": "3v0xq3bNw45A"
   },
   "source": [
    "# **Cómo usar Pandas y Python para conectar con tu base de datos SQL** \n",
    "\n",
    "Pandas cuenta con una funcionalidad que facilita el acceso a tus bases de datos tipo SQL:\n",
    "\n",
    "* PostgreSQL: Valida que tengas la librería psycopg2 usando el comando import. Si no está instalada en tu ambiente, usa el comando !pip install psycopg2 en la terminal de python para instalarlo.\n",
    "\n",
    "Comenzamos cargando las librerías:"
   ]
  },
  {
   "cell_type": "code",
   "execution_count": 2,
   "metadata": {},
   "outputs": [
    {
     "name": "stdout",
     "output_type": "stream",
     "text": [
      "Collecting psycopg2\n",
      "  Downloading psycopg2-2.9.10-cp312-cp312-win_amd64.whl.metadata (5.0 kB)\n",
      "Downloading psycopg2-2.9.10-cp312-cp312-win_amd64.whl (1.2 MB)\n",
      "   ---------------------------------------- 0.0/1.2 MB ? eta -:--:--\n",
      "   ------- -------------------------------- 0.2/1.2 MB 3.3 MB/s eta 0:00:01\n",
      "   ----------- ---------------------------- 0.3/1.2 MB 3.0 MB/s eta 0:00:01\n",
      "   --------------------- ------------------ 0.6/1.2 MB 3.3 MB/s eta 0:00:01\n",
      "   --------------------------- ------------ 0.8/1.2 MB 3.1 MB/s eta 0:00:01\n",
      "   ---------------------------------- ----- 1.0/1.2 MB 3.2 MB/s eta 0:00:01\n",
      "   ---------------------------------------  1.2/1.2 MB 3.1 MB/s eta 0:00:01\n",
      "   ---------------------------------------- 1.2/1.2 MB 2.7 MB/s eta 0:00:00\n",
      "Installing collected packages: psycopg2\n",
      "Successfully installed psycopg2-2.9.10\n"
     ]
    }
   ],
   "source": [
    "!pip install psycopg2"
   ]
  },
  {
   "cell_type": "code",
   "execution_count": 4,
   "metadata": {
    "colab": {
     "base_uri": "https://localhost:8080/"
    },
    "executionInfo": {
     "elapsed": 377,
     "status": "ok",
     "timestamp": 1630943301573,
     "user": {
      "displayName": "Micaela Alarcón",
      "photoUrl": "https://lh3.googleusercontent.com/a-/AOh14GgfTf7LSMBjDPxTdDq2L9xDpU-NBVjC6CLocHo4=s64",
      "userId": "17202261087763750580"
     },
     "user_tz": 180
    },
    "id": "UX3ja-PswwEf",
    "outputId": "27d6ca0f-aae0-439a-96c0-6d4c18a796b8"
   },
   "outputs": [],
   "source": [
    "import pandas as pd\n",
    "import psycopg2"
   ]
  },
  {
   "cell_type": "markdown",
   "metadata": {
    "id": "rWECg4xmx_yv"
   },
   "source": [
    "Luego creamos el elemento de conexión con el siguiente código:"
   ]
  },
  {
   "cell_type": "code",
   "execution_count": 7,
   "metadata": {
    "id": "56lcR1boyCRt"
   },
   "outputs": [
    {
     "ename": "OperationalError",
     "evalue": "connection to server at \"xxx.xxx.xxx.xxx\" (141.193.213.11), port 5432 failed: Connection timed out (0x0000274C/10060)\n\tIs the server running on that host and accepting TCP/IP connections?\nconnection to server at \"xxx.xxx.xxx.xxx\" (141.193.213.10), port 5432 failed: Connection timed out (0x0000274C/10060)\n\tIs the server running on that host and accepting TCP/IP connections?\n",
     "output_type": "error",
     "traceback": [
      "\u001b[1;31m---------------------------------------------------------------------------\u001b[0m",
      "\u001b[1;31mOperationalError\u001b[0m                          Traceback (most recent call last)",
      "Cell \u001b[1;32mIn[7], line 1\u001b[0m\n\u001b[1;32m----> 1\u001b[0m conn_sql \u001b[38;5;241m=\u001b[39m psycopg2\u001b[38;5;241m.\u001b[39mconnect(user \u001b[38;5;241m=\u001b[39m \u001b[38;5;124m\"\u001b[39m\u001b[38;5;124muser_name\u001b[39m\u001b[38;5;124m\"\u001b[39m,\n\u001b[0;32m      2\u001b[0m                             password \u001b[38;5;241m=\u001b[39m \u001b[38;5;124m\"\u001b[39m\u001b[38;5;124mpassword\u001b[39m\u001b[38;5;124m\"\u001b[39m,\n\u001b[0;32m      3\u001b[0m                             host \u001b[38;5;241m=\u001b[39m \u001b[38;5;124m\"\u001b[39m\u001b[38;5;124mxxx.xxx.xxx.xxx\u001b[39m\u001b[38;5;124m\"\u001b[39m,\n\u001b[0;32m      4\u001b[0m                             port \u001b[38;5;241m=\u001b[39m \u001b[38;5;124m\"\u001b[39m\u001b[38;5;124m5432\u001b[39m\u001b[38;5;124m\"\u001b[39m,\n\u001b[0;32m      5\u001b[0m                             database \u001b[38;5;241m=\u001b[39m \u001b[38;5;124m\"\u001b[39m\u001b[38;5;124mpostgres_db_name\u001b[39m\u001b[38;5;124m\"\u001b[39m)\n",
      "File \u001b[1;32m~\\anaconda3\\Lib\\site-packages\\psycopg2\\__init__.py:122\u001b[0m, in \u001b[0;36mconnect\u001b[1;34m(dsn, connection_factory, cursor_factory, **kwargs)\u001b[0m\n\u001b[0;32m    119\u001b[0m     kwasync[\u001b[38;5;124m'\u001b[39m\u001b[38;5;124masync_\u001b[39m\u001b[38;5;124m'\u001b[39m] \u001b[38;5;241m=\u001b[39m kwargs\u001b[38;5;241m.\u001b[39mpop(\u001b[38;5;124m'\u001b[39m\u001b[38;5;124masync_\u001b[39m\u001b[38;5;124m'\u001b[39m)\n\u001b[0;32m    121\u001b[0m dsn \u001b[38;5;241m=\u001b[39m _ext\u001b[38;5;241m.\u001b[39mmake_dsn(dsn, \u001b[38;5;241m*\u001b[39m\u001b[38;5;241m*\u001b[39mkwargs)\n\u001b[1;32m--> 122\u001b[0m conn \u001b[38;5;241m=\u001b[39m _connect(dsn, connection_factory\u001b[38;5;241m=\u001b[39mconnection_factory, \u001b[38;5;241m*\u001b[39m\u001b[38;5;241m*\u001b[39mkwasync)\n\u001b[0;32m    123\u001b[0m \u001b[38;5;28;01mif\u001b[39;00m cursor_factory \u001b[38;5;129;01mis\u001b[39;00m \u001b[38;5;129;01mnot\u001b[39;00m \u001b[38;5;28;01mNone\u001b[39;00m:\n\u001b[0;32m    124\u001b[0m     conn\u001b[38;5;241m.\u001b[39mcursor_factory \u001b[38;5;241m=\u001b[39m cursor_factory\n",
      "\u001b[1;31mOperationalError\u001b[0m: connection to server at \"xxx.xxx.xxx.xxx\" (141.193.213.11), port 5432 failed: Connection timed out (0x0000274C/10060)\n\tIs the server running on that host and accepting TCP/IP connections?\nconnection to server at \"xxx.xxx.xxx.xxx\" (141.193.213.10), port 5432 failed: Connection timed out (0x0000274C/10060)\n\tIs the server running on that host and accepting TCP/IP connections?\n"
     ]
    }
   ],
   "source": [
    "conn_sql = psycopg2.connect(user = \"user_name\",\n",
    "                            password = \"password\",\n",
    "                            host = \"xxx.xxx.xxx.xxx\",\n",
    "                            port = \"5432\",\n",
    "                            database = \"postgres_db_name\")"
   ]
  },
  {
   "cell_type": "markdown",
   "metadata": {
    "id": "JhHnoDGoyP-F"
   },
   "source": [
    "Seguido simplemente definimos nuestra query en SQL:"
   ]
  },
  {
   "cell_type": "code",
   "execution_count": null,
   "metadata": {
    "id": "uDtiCgSCyMNd"
   },
   "outputs": [],
   "source": [
    "query_sql = '''\n",
    "select *\n",
    "from table_name\n",
    "limit 10\n",
    "'''"
   ]
  },
  {
   "cell_type": "markdown",
   "metadata": {
    "id": "uMA8VH11zNlv"
   },
   "source": [
    "Y creamos nuestro dataframe:"
   ]
  },
  {
   "cell_type": "code",
   "execution_count": null,
   "metadata": {
    "id": "t3hTjC7kzPzr"
   },
   "outputs": [],
   "source": [
    "df = pd.read_sql(query_sql, sql_conn)\n",
    "df.head(5)"
   ]
  },
  {
   "cell_type": "markdown",
   "metadata": {
    "id": "AYjgm6_bzR-Y"
   },
   "source": [
    "* SQL Server:\n",
    "\n",
    "Valida que tengas la librería pyodbc usando el comando import, si no está instalada en tu ambiente, usa el comando !pip install pyodbc en la terminal python para instalarlo.\n",
    "\n",
    "Comenzamos cargando las librerías:"
   ]
  },
  {
   "cell_type": "code",
   "execution_count": null,
   "metadata": {
    "id": "Abd4tvjxz5LY"
   },
   "outputs": [],
   "source": [
    "import pandas as pd\n",
    "import pyodbc"
   ]
  },
  {
   "cell_type": "markdown",
   "metadata": {
    "id": "w6AIZBWoz72g"
   },
   "source": [
    "Luego creamos el elemento de conexión con el siguiente código:"
   ]
  },
  {
   "cell_type": "code",
   "execution_count": null,
   "metadata": {
    "id": "9Ql7o4UCz-Iv"
   },
   "outputs": [],
   "source": [
    "driver = '{SQL Server}'\n",
    "server_name = 'server_name'\n",
    "db_name = 'database_name'\n",
    "user = 'user'\n",
    "password = 'password'\n",
    "sql_conn = pyodbc.connect('''\n",
    "DRIVER={};SERVER={};DATABASE={};UID={};PWD={};\n",
    "Trusted_Connection=yes\n",
    "'''.format(driver, server_name, db_name, user, password))"
   ]
  },
  {
   "cell_type": "markdown",
   "metadata": {
    "id": "N7Q7drXA0AwH"
   },
   "source": [
    "O si tienes el DSN:"
   ]
  },
  {
   "cell_type": "code",
   "execution_count": null,
   "metadata": {
    "id": "RXzdO3ZH0CPY"
   },
   "outputs": [],
   "source": [
    "dsn = 'odbc_datasource_name'\n",
    "sql_conn = pyodbc.connect('''\n",
    "DSN={};UID={};PWD={};Trusted_Connection=yes;\n",
    "'''.format(dsn, user, password))\n",
    "Seguido simplemente definimos nuestra query en SQL:\t\n",
    "query_sql = 'select * from table_name limit 10'"
   ]
  },
  {
   "cell_type": "markdown",
   "metadata": {
    "id": "NxuzXbno0Eax"
   },
   "source": [
    "Y creamos nuestro dataframe con:"
   ]
  },
  {
   "cell_type": "code",
   "execution_count": null,
   "metadata": {
    "id": "XBc64poc0F6Q"
   },
   "outputs": [],
   "source": [
    "df = pd.read_sql(query_sql, sql_conn)\n",
    "df.head(5)"
   ]
  },
  {
   "cell_type": "markdown",
   "metadata": {
    "id": "TpTQfMG90GoY"
   },
   "source": [
    "* MySQL / Oracle / Otras:\n",
    "\n",
    "Valida que tengas la librería sqlalchemy usando el comando import, si no está instalada en tu ambiente, usa el comando !pip install sqlalchemy en la terminal de python para instalarlo.\n",
    "\n",
    "Comenzamos cargando las librerías:"
   ]
  },
  {
   "cell_type": "code",
   "execution_count": null,
   "metadata": {
    "id": "XHyJOWAQ0WCK"
   },
   "outputs": [],
   "source": [
    "import pandas as pd\n",
    "import sqlalchemy as sql\n",
    "Escogemos nuestra base de datos, Oracle, MySql o la de tu preferencia:\n",
    "database_type = 'mysql'\n",
    "database_type = 'oracle'"
   ]
  },
  {
   "cell_type": "markdown",
   "metadata": {
    "id": "1sx9wPdT0YV4"
   },
   "source": [
    "Luego creamos el elemento de conexión con el siguiente código:"
   ]
  },
  {
   "cell_type": "code",
   "execution_count": null,
   "metadata": {
    "id": "0T6ne0NH0aZI"
   },
   "outputs": [],
   "source": [
    "user = 'user_name'\n",
    "password = 'password'\n",
    "host = 'xxx.xxx.xxx.xxx:port'\n",
    "database = 'database_name'\n",
    "\n",
    "conn_string = '{}://{}:{}@{}/{}'.format(\n",
    "database_type, user, password, host, database)\n",
    "\n",
    "sql_conn = sql.create_engine(conn_string)"
   ]
  },
  {
   "cell_type": "markdown",
   "metadata": {
    "id": "91NVZh8W0cZA"
   },
   "source": [
    "Seguido simplemente definimos nuestra query en SQL:"
   ]
  },
  {
   "cell_type": "code",
   "execution_count": null,
   "metadata": {
    "id": "4ePtVQb90erI"
   },
   "outputs": [],
   "source": [
    "query_sql = '''\n",
    "select *\n",
    "from table_name\n",
    "limit 10\n",
    "'''"
   ]
  },
  {
   "cell_type": "markdown",
   "metadata": {
    "id": "KBOV2MWh0h6g"
   },
   "source": [
    "Y creamos nuestro dataframe con:"
   ]
  },
  {
   "cell_type": "code",
   "execution_count": null,
   "metadata": {
    "id": "QeCrVa3E0kbo"
   },
   "outputs": [],
   "source": [
    "df = pd.read_sql(query_sql, sql_conn)\n",
    "df.head(5)"
   ]
  },
  {
   "cell_type": "markdown",
   "metadata": {
    "id": "B4Ub718A0l35"
   },
   "source": [
    "La libreria sqlalchemy también soporta PostgreSQL y otras fuentes de datos."
   ]
  },
  {
   "cell_type": "code",
   "execution_count": null,
   "metadata": {
    "id": "7t_JYDRV0nD3"
   },
   "outputs": [],
   "source": []
  }
 ],
 "metadata": {
  "colab": {
   "authorship_tag": "ABX9TyOJuxPwEPVAZ5T7T7HE26Sc",
   "collapsed_sections": [],
   "name": "Conexion-con-base-de-datos-tipo-SQL.ipynb",
   "provenance": []
  },
  "kernelspec": {
   "display_name": "Python 3 (ipykernel)",
   "language": "python",
   "name": "python3"
  },
  "language_info": {
   "codemirror_mode": {
    "name": "ipython",
    "version": 3
   },
   "file_extension": ".py",
   "mimetype": "text/x-python",
   "name": "python",
   "nbconvert_exporter": "python",
   "pygments_lexer": "ipython3",
   "version": "3.12.3"
  }
 },
 "nbformat": 4,
 "nbformat_minor": 4
}
